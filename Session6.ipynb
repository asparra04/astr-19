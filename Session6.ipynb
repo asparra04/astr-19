{
 "cells": [
  {
   "cell_type": "code",
   "execution_count": null,
   "id": "4b69dcaf-03cb-4f22-9e93-a166b519b124",
   "metadata": {},
   "outputs": [],
   "source": [
    "import numpy as np\n",
    "import sys\n",
    "import matplotlib.pyplot as plt"
   ]
  },
  {
   "cell_type": "code",
   "execution_count": 29,
   "id": "89f9032d-0b7c-4273-9dba-25b23eedcd9c",
   "metadata": {},
   "outputs": [],
   "source": [
    "def sin(x):\n",
    "    return np.sin(x)"
   ]
  },
  {
   "cell_type": "markdown",
   "id": "b6208bd3-22c1-4930-af53-9198a28d702f",
   "metadata": {},
   "source": [
    "Function for sin(x)"
   ]
  },
  {
   "cell_type": "code",
   "execution_count": 28,
   "id": "e59744ce-8f8b-4934-9831-e26cbbe5d6f5",
   "metadata": {},
   "outputs": [],
   "source": [
    "def cos(x):\n",
    "    return np.cos(x)"
   ]
  },
  {
   "cell_type": "markdown",
   "id": "4e5caa01-8300-4472-b3e0-91e842cf55af",
   "metadata": {},
   "source": [
    "Function for cos(x)"
   ]
  },
  {
   "cell_type": "code",
   "execution_count": 23,
   "id": "f125a338-ba54-45e4-8aad-0efe85dd9d56",
   "metadata": {},
   "outputs": [],
   "source": [
    "def main():\n",
    "    x = np.linspace(0,2*np.pi,1000)\n",
    "    y = np.sin(x)\n",
    "    z = np.cos(x)"
   ]
  },
  {
   "cell_type": "markdown",
   "id": "886a687f-e3f2-4111-85b8-45c4dd78dc86",
   "metadata": {},
   "source": [
    "Attributing variables to functions"
   ]
  },
  {
   "cell_type": "code",
   "execution_count": 30,
   "id": "46824f35-c082-4e5d-bd3f-b72d19bbfc9b",
   "metadata": {},
   "outputs": [
    {
     "name": "stdout",
     "output_type": "stream",
     "text": [
      "x          sin(x)     cos(x)    \n",
      "0.0000     0.0000     1.0000    \n",
      "0.0063     0.0063     1.0000    \n",
      "0.0126     0.0126     0.9999    \n",
      "0.0189     0.0189     0.9998    \n",
      "0.0252     0.0252     0.9997    \n",
      "0.0314     0.0314     0.9995    \n",
      "0.0377     0.0377     0.9993    \n",
      "0.0440     0.0440     0.9990    \n",
      "0.0503     0.0503     0.9987    \n",
      "0.0566     0.0566     0.9984    \n"
     ]
    }
   ],
   "source": [
    "print(f\"{'x':<10} {'sin(x)':<10} {'cos(x)':<10}\")\n",
    "for i in range (10):\n",
    "    print(f\"{x[i]:<10.4f} {np.sin(x)[i]:<10.4f} {np.cos(x)[i]:<10.4f}\")"
   ]
  },
  {
   "cell_type": "markdown",
   "id": "4a6f451c-57af-4c90-aacf-ae06b9f48f04",
   "metadata": {},
   "source": [
    "Printing the values in 3 colors from 1-10 for each given function"
   ]
  },
  {
   "cell_type": "code",
   "execution_count": null,
   "id": "51148765-1f58-4b68-850b-50b0dbc5aaa0",
   "metadata": {},
   "outputs": [],
   "source": []
  }
 ],
 "metadata": {
  "kernelspec": {
   "display_name": "ASTR 19",
   "language": "python",
   "name": "astr19"
  },
  "language_info": {
   "codemirror_mode": {
    "name": "ipython",
    "version": 3
   },
   "file_extension": ".py",
   "mimetype": "text/x-python",
   "name": "python",
   "nbconvert_exporter": "python",
   "pygments_lexer": "ipython3",
   "version": "3.10.12"
  }
 },
 "nbformat": 4,
 "nbformat_minor": 5
}
