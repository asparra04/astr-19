{
 "cells": [
  {
   "cell_type": "code",
   "execution_count": 1,
   "id": "18ed3c84-783f-4a6b-887c-d772ed75c5f8",
   "metadata": {},
   "outputs": [],
   "source": [
    "import numpy as np\n",
    "import matplotlib.pyplot as plt"
   ]
  },
  {
   "cell_type": "code",
   "execution_count": null,
   "id": "8e0abf89-f72c-4ad6-8302-f7859e55fa9c",
   "metadata": {},
   "outputs": [],
   "source": [
    "data = np.random.normal(loc=0, scale=1, size=1000)\n",
    "\n",
    "plt.figure(figsize=(10,6))\n",
    "plt.hist(data, bins=100, edgecolor='black', alpha=0.7)\n",
    "\n",
    "plt.xlabel\n",
    "plt.ylabel++++++++++"
   ]
  }
 ],
 "metadata": {
  "kernelspec": {
   "display_name": "ASTR 19",
   "language": "python",
   "name": "astr19"
  },
  "language_info": {
   "codemirror_mode": {
    "name": "ipython",
    "version": 3
   },
   "file_extension": ".py",
   "mimetype": "text/x-python",
   "name": "python",
   "nbconvert_exporter": "python",
   "pygments_lexer": "ipython3",
   "version": "3.10.12"
  }
 },
 "nbformat": 4,
 "nbformat_minor": 5
}
